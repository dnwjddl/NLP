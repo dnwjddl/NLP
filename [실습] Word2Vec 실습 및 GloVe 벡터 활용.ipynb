{
 "cells": [
  {
   "cell_type": "code",
   "execution_count": 1,
   "metadata": {
    "scrolled": true
   },
   "outputs": [],
   "source": [
    "import torch\n",
    "from torch.autograd import Variable\n",
    "import torch.nn as nn\n",
    "import torch.nn.functional as F\n",
    "import torch.optim as optim"
   ]
  },
  {
   "cell_type": "code",
   "execution_count": 2,
   "metadata": {},
   "outputs": [
    {
     "name": "stdout",
     "output_type": "stream",
     "text": [
      "['We', 'are', 'about', 'to', 'study', 'the', 'idea', 'of', 'a', 'computational', 'process.', 'Computational', 'processes', 'are', 'abstract', 'beings', 'that', 'inhabit', 'computers.', 'As', 'they', 'evolve,', 'processes', 'manipulate', 'other', 'abstract', 'things', 'called', 'data.', 'The', 'evolution', 'of', 'a', 'process', 'is', 'directed', 'by', 'a', 'pattern', 'of', 'rules', 'called', 'a', 'program.', 'People', 'create', 'programs', 'to', 'direct', 'processes.', 'In', 'effect,', 'we', 'conjure', 'the', 'spirits', 'of', 'the', 'computer', 'with', 'our', 'spells.']\n",
      "{'idea', 'effect,', 'spirits', 'In', 'are', 'manipulate', 'The', 'As', 'data.', 'Computational', 'with', 'People', 'about', 'direct', 'computer', 'the', 'process', 'abstract', 'a', 'our', 'We', 'they', 'directed', 'programs', 'that', 'study', 'to', 'process.', 'inhabit', 'program.', 'processes.', 'things', 'beings', 'of', 'computational', 'evolution', 'processes', 'is', 'rules', 'spells.', 'by', 'we', 'computers.', 'other', 'called', 'evolve,', 'pattern', 'conjure', 'create'}\n",
      "vocab_size: 49\n"
     ]
    }
   ],
   "source": [
    "CONTEXT_SIZE = 2 #Window size을 뜻함\n",
    "\n",
    "text = \"\"\"We are about to study the idea of a computational process.\n",
    "Computational processes are abstract beings that inhabit computers.\n",
    "As they evolve, processes manipulate other abstract things called data.\n",
    "The evolution of a process is directed by a pattern of rules\n",
    "called a program. People create programs to direct processes. In effect,\n",
    "we conjure the spirits of the computer with our spells.\"\"\".split()\n",
    "#띄어쓰기 기준으로 split\n",
    "\n",
    "print(text)\n",
    "vocab = set(text) #text는 배열안에 존재 vocab 나눠준거 {'We','are',.. } 이런식으로 \n",
    "#set 함수는 dictionary 와 비슷하지만, key가 없고 값만 존재한다.\n",
    "vocab_size = len(vocab)\n",
    "print(vocab)\n",
    "print('vocab_size:', vocab_size)\n",
    "\n",
    "#단어 사전 만듦 key, value 바꿔가면서\n",
    "w2i = {w: i for i, w in enumerate(vocab)}\n",
    "i2w = {i: w for i, w in enumerate(vocab)}"
   ]
  },
  {
   "cell_type": "markdown",
   "metadata": {},
   "source": [
    "## Token생성했으므로 -> (Make Corpus: Numbering(Dictionary))\n",
    "## => 단어 임베딩 필요 <word2Vec 사용>"
   ]
  },
  {
   "cell_type": "markdown",
   "metadata": {},
   "source": [
    "### 단어 임베딩을 위한 trainset 전처리 과정\n",
    "- Negative Sampling 이란 Softmax 함수를 전체 trainset에 말고 window 밖의 일부 trainset에만 적용"
   ]
  },
  {
   "cell_type": "code",
   "execution_count": 3,
   "metadata": {},
   "outputs": [
    {
     "name": "stdout",
     "output_type": "stream",
     "text": [
      "cbow sample (['We', 'are', 'to', 'study'], 'about')\n",
      "skipgram sample ('about', 'We', 1)\n",
      "skipgram sample ('about', 'We', 0)\n"
     ]
    }
   ],
   "source": [
    "##train을 위한 데이터셋을 만들어줌\n",
    "\n",
    "##Word2Vec중 CBOW 쓸때\n",
    "def create_cbow_dataset(text):\n",
    "    data = []\n",
    "    for i in range(2, len(text) - 2): #context size을 설정해준대로 2빼기\n",
    "        context = [text[i - 2], text[i - 1],\n",
    "                   text[i + 1], text[i + 2]] #context word 중심단어 옆에 주변단어들 list\n",
    "        target = text[i] #중심단어임\n",
    "        data.append((context, target)) #data라는 list 에 (주변단어, 중심단어) 로 설정\n",
    "    return data\n",
    "\n",
    "##Word2Vec중 skipgram 쓸때 + Negative Sampling을 위한 data set도 만들어주기\n",
    "def create_skipgram_dataset(text):\n",
    "    import random\n",
    "    data = [] \n",
    "    for i in range(2, len(text) - 2):\n",
    "        data.append((text[i], text[i-2], 1))\n",
    "        data.append((text[i], text[i-1], 1))\n",
    "        data.append((text[i], text[i+1], 1))\n",
    "        data.append((text[i], text[i+2], 1))\n",
    "        #data라는 list에 (중심단어, 주변단어) 설정\n",
    "        ##negative Sampling 하는 방법// random으로 id 부여\n",
    "        #random id에 대한 텍스트는 관계가 없다라는 값을 넣어줌\n",
    "        for _ in range(4):\n",
    "            if random.random() < 0.5 or i >= len(text) - 3:\n",
    "                rand_id = random.randint(0, i-1)\n",
    "            else:\n",
    "                rand_id = random.randint(i+3, len(text)-1)\n",
    "            data.append((text[i], text[rand_id], 0)) \n",
    "            #random으로 뽑힌 아이디 값도 (중심단어, negative 주변단어) 설정.\n",
    "            #대신 weight는 관계가 없으니, 0으로 넣어줌. weight 업데이트 해줄 필요성 없음 (해주기엔 너무 많은 양의 계산이 필요함)\n",
    "    return data\n",
    "\n",
    "cbow_train = create_cbow_dataset(text)\n",
    "skipgram_train = create_skipgram_dataset(text)\n",
    "print('cbow sample', cbow_train[0]) \n",
    "print('skipgram sample', skipgram_train[0]) \n",
    "print('skipgram sample', skipgram_train[4]) #random으로 negative Sampling 한거"
   ]
  },
  {
   "cell_type": "markdown",
   "metadata": {},
   "source": [
    "## CBOW&SKIPGRAM 단일 신경망 제작"
   ]
  },
  {
   "cell_type": "code",
   "execution_count": 4,
   "metadata": {},
   "outputs": [],
   "source": [
    "##학습 전 학습을 위한 단일 신경망 제작.\n",
    "#CBOW 형태의 단일 신경망 제작\n",
    "class CBOW(nn.Module):\n",
    "    def __init__(self, vocab_size, embd_size, context_size, hidden_size):\n",
    "        super(CBOW, self).__init__() #super 상속 개념 : 자식 클래스에서 부모 클래스를 사용하고 싶을 경우 \n",
    "\n",
    "        self.embeddings = nn.Embedding(vocab_size, embd_size) #임베딩 벡터를 얻기 위한 임베딩layer\n",
    "        #nn.Embeddding(num_embeddings=len(vocab),embedding_dim=3,pedding_idx=1) #dim 벡터의 차원(사용자가 지정해줌)\n",
    "        #차원을 맞춰주기 위함 (embd_size로)\n",
    "        \n",
    "        #nn.Linear(input_dim, output_dim)        \n",
    "        self.linear1 = nn.Linear(2*context_size*embd_size, hidden_size) #inputlayer\n",
    "        #context_size=window size, 한단어 마다 embd_size만큼, * data set 은 (context, target)으로 구성 즉, *2 해주기\n",
    "        self.linear2 = nn.Linear(hidden_size, vocab_size) \n",
    "        #Output layer. CBOW는 vocab_size 만큼 나와야함.\n",
    "        #size를 맞춰주기 위해서 vocab_size로 output를 둠\n",
    "        \n",
    "    def forward(self, inputs):\n",
    "        ##embedded(벡터화)->layer1->Relu->hid->layer2->softmax()->log_probs\n",
    "        embedded = self.embeddings(inputs).view((1, -1)) \n",
    "        hid = F.relu(self.linear1(embedded))\n",
    "        #embedded를 넣고 relu를 돌린후 hid에 넣기\n",
    "        out = self.linear2(hid) \n",
    "        #레이어2를 hid를 넣어서 out 나오게\n",
    "        log_probs = F.log_softmax(out) #softmax 사용\n",
    "        return log_probs #CBOW output 값\n",
    "    \n",
    "    \n",
    "#SkipGram 형태의 단일 신경망 제작\n",
    "class SkipGram(nn.Module):\n",
    "    def __init__(self, vocab_size, embd_size):\n",
    "        super(SkipGram, self).__init__()\n",
    "        self.embeddings = nn.Embedding(vocab_size, embd_size) \n",
    "        #embedding벡터만 필요\n",
    "        #둘의 곱으로 표현된 embedding matrix\n",
    "    \n",
    "    def forward(self, focus, context):\n",
    "        embed_focus = self.embeddings(focus).view((1, -1))  \n",
    "        # .view:1차원으로 만들어줌 차원 reshape 해주기(1,-1) #단, -1 을 다른 차원에 맞춰서 자동으로 차원 설정\n",
    "        \n",
    "        embed_ctx = self.embeddings(context).view((1, -1)) #focus 와 context 로 쭉쭉 펴줌\n",
    "        score = torch.mm(embed_focus, torch.t(embed_ctx)) #torch.mm : 내적을한다는 뜻\n",
    "        \n",
    "        #행렬곱을 진행. 높을수록 관련있다\n",
    "        log_probs = F.logsigmoid(score) #시그모이드 진행\n",
    "    \n",
    "        return log_probs"
   ]
  },
  {
   "cell_type": "markdown",
   "metadata": {},
   "source": [
    "## CBOW 와 SKIPGRAM 학습 진행"
   ]
  },
  {
   "cell_type": "code",
   "execution_count": 5,
   "metadata": {},
   "outputs": [
    {
     "name": "stdout",
     "output_type": "stream",
     "text": [
      "SkipGram(\n",
      "  (embeddings): Embedding(49, 100)\n",
      ")\n"
     ]
    },
    {
     "data": {
      "text/plain": [
       "(SkipGram(\n",
       "   (embeddings): Embedding(49, 100)\n",
       " ),\n",
       " [tensor(16796.6875),\n",
       "  tensor(3396.6379),\n",
       "  tensor(1258.6238),\n",
       "  tensor(686.8545),\n",
       "  tensor(481.5197),\n",
       "  tensor(393.8079),\n",
       "  tensor(349.8574),\n",
       "  tensor(324.4760),\n",
       "  tensor(308.1470),\n",
       "  tensor(296.7898),\n",
       "  tensor(288.4325),\n",
       "  tensor(282.0202),\n",
       "  tensor(276.9409),\n",
       "  tensor(272.8154),\n",
       "  tensor(269.3961),\n",
       "  tensor(266.5149),\n",
       "  tensor(264.0533),\n",
       "  tensor(261.9250),\n",
       "  tensor(260.0661),\n",
       "  tensor(258.4284),\n",
       "  tensor(256.9742),\n",
       "  tensor(255.6741),\n",
       "  tensor(254.5048),\n",
       "  tensor(253.4474),\n",
       "  tensor(252.4862),\n",
       "  tensor(251.6086),\n",
       "  tensor(250.8044),\n",
       "  tensor(250.0644),\n",
       "  tensor(249.3813),\n",
       "  tensor(248.7488)])"
      ]
     },
     "execution_count": 5,
     "metadata": {},
     "output_type": "execute_result"
    }
   ],
   "source": [
    "embd_size = 100 #각 단어 별로 100차원으로 설정\n",
    "learning_rate = 0.001 \n",
    "n_epoch = 30 #전체 데이터를 몇번 훑을지\n",
    "\n",
    "\n",
    "# CBOW(\n",
    "#   (embeddings): Embedding(49, 100)\n",
    "#   (linear1): Linear(in_features=400, out_features=64, bias=True)\n",
    "#   (linear2): Linear(in_features=64, out_features=49, bias=True)\n",
    "# )\n",
    "\n",
    "\n",
    "def train_cbow():\n",
    "    hidden_size = 64 \n",
    "    losses = [] #loss값을 계산하고 그 값을 list에 입력\n",
    "    loss_fn = nn.NLLLoss() #loss function\n",
    "    model = CBOW(vocab_size, embd_size, CONTEXT_SIZE, hidden_size) #CBOW 클래스\n",
    "    optimizer = optim.SGD(model.parameters(), lr=learning_rate) #pytorch 에서 weight 갱신해주는 패키지\n",
    "    # optim 패키지를 사용하여 모델의 가중치를 갱신할 Optimizer를 정의합니다.\n",
    "    # optim 패키지도 종류가 많다. 이중 우린 SGD (GradientDescent) 사용. (그외, RMS, Adam등)\n",
    "\n",
    "\n",
    "    for epoch in range(n_epoch): #epoch 만큼\n",
    "        total_loss = .0 #전체적인 loss 값은 0\n",
    "        \n",
    "        for context, target in cbow_train: #context, target 돌아가기\n",
    "            ctx_idxs = [w2i[w] for w in context] #context만으로 index 설정\n",
    "            ctx_var = Variable(torch.LongTensor(ctx_idxs)) #Variable 로 index들을 벡터화 시켜줌 \n",
    "            #torch.LongTensor -> 데이터 타입임 자료형변환\n",
    "            \n",
    "            model.zero_grad() #model의 weight을 0으로 초기화\n",
    "            log_probs = model(ctx_var)#벡터화시킨걸 model에 돌리기 \n",
    "            #예상값이 나옴\n",
    "            \n",
    "            loss = loss_fn(log_probs, Variable(torch.LongTensor([w2i[target]])))\n",
    "            #타겟값과 probality 계산\n",
    "            \n",
    "            loss.backward()\n",
    "            optimizer.step() #weight 업데이트\n",
    "            total_loss += loss.data #loss 리스트에 업데이트\n",
    "        losses.append(total_loss)\n",
    "    return model, losses\n",
    "\n",
    "def train_skipgram():\n",
    "    losses = [] \n",
    "    loss_fn = nn.MSELoss() #loss 는 MSE로 넣어봄 \n",
    "    model = SkipGram(vocab_size, embd_size) #CBOW 와 다르게 두개만 받게 설정\n",
    "    print(model)\n",
    "    optimizer = optim.SGD(model.parameters(), lr=learning_rate) #SGD로 OPtimizer 설정\n",
    "    \n",
    "    for epoch in range(n_epoch):\n",
    "        total_loss = .0\n",
    "        for in_w, out_w, target in skipgram_train:\n",
    "            in_w_var = Variable(torch.LongTensor([w2i[in_w]]))\n",
    "            out_w_var = Variable(torch.LongTensor([w2i[out_w]])) \n",
    "            \n",
    "            model.zero_grad()\n",
    "            log_probs = model(in_w_var, out_w_var)\n",
    "            loss = loss_fn(log_probs[0], Variable(torch.Tensor([target])))\n",
    "            #loss계산\n",
    "            \n",
    "            loss.backward()\n",
    "            optimizer.step()\n",
    "            #loss계산한거 backpropagation 하고 optimizer를 통해 weight 갱신\n",
    "            \n",
    "            total_loss += loss.data\n",
    "        losses.append(total_loss)\n",
    "    return model, losses\n",
    "\n",
    "train_skipgram()"
   ]
  },
  {
   "cell_type": "code",
   "execution_count": 6,
   "metadata": {},
   "outputs": [
    {
     "name": "stderr",
     "output_type": "stream",
     "text": [
      "C:\\Users\\woojung\\anaconda3\\lib\\site-packages\\ipykernel_launcher.py:25: UserWarning: Implicit dimension choice for log_softmax has been deprecated. Change the call to include dim=X as an argument.\n"
     ]
    },
    {
     "name": "stdout",
     "output_type": "stream",
     "text": [
      "SkipGram(\n",
      "  (embeddings): Embedding(49, 100)\n",
      ")\n"
     ]
    }
   ],
   "source": [
    "cbow_model, cbow_losses = train_cbow()\n",
    "sg_model, sg_losses = train_skipgram()"
   ]
  },
  {
   "cell_type": "markdown",
   "metadata": {},
   "source": [
    "## Testset model"
   ]
  },
  {
   "cell_type": "code",
   "execution_count": 7,
   "metadata": {},
   "outputs": [],
   "source": [
    "def test_cbow(test_data, model):\n",
    "    print('====Test CBOW===')\n",
    "    correct_ct = 0\n",
    "    for ctx, target in test_data:\n",
    "        ctx_idxs = [w2i[w] for w in ctx] #index 값을 뽑아냄\n",
    "        ctx_var = Variable(torch.LongTensor(ctx_idxs)) #variable 뽑아냄\n",
    "\n",
    "        model.zero_grad()\n",
    "        log_probs = model(ctx_var)\n",
    "        \n",
    "        ##MAX 맞추기 위함\n",
    "        _, predicted = torch.max(log_probs.data, 1) #log_prob에서 max로 뽑아냄\n",
    "        ##제일 높은 값의 item 맞추기\n",
    "        predicted_word = i2w[predicted.item()]  #제일 높은 값을 item으로\n",
    "        print('predicted:', predicted_word)\n",
    "        print('label    :', target)\n",
    "        if predicted_word == target: # taget이랑 predict 한거랑 같았으면 값은 1, 다르면 0\n",
    "            correct_ct += 1 \n",
    "    #0과 1의 값으로 Accuracy 계산       \n",
    "    print('Accuracy: {:.1f}% ({:d}/{:d})'.format(correct_ct/len(test_data)*100, correct_ct, len(test_data)))\n",
    "\n",
    "def test_skipgram(test_data, model):\n",
    "    print('====Test SkipGram===')\n",
    "    correct_ct = 0\n",
    "    for in_w, out_w, target in test_data:#두 in out 관련 있으면 1, 없으면 0\n",
    "        in_w_var = Variable(torch.LongTensor([w2i[in_w]]))\n",
    "        out_w_var = Variable(torch.LongTensor([w2i[out_w]]))\n",
    "\n",
    "        model.zero_grad() \n",
    "        \n",
    "        log_probs = model(in_w_var, out_w_var)\n",
    "        \n",
    "        _, predicted = torch.max(log_probs.data, 1) #가장 높은 값 predicted\n",
    "        predicted = predicted[0]\n",
    "        if predicted == target: #taget이랑 맞다면 1 틀리면 0\n",
    "            correct_ct += 1\n",
    "\n",
    "    print('Accuracy: {:.1f}% ({:d}/{:d})'.format(correct_ct/len(test_data)*100, correct_ct, len(test_data)))"
   ]
  },
  {
   "cell_type": "code",
   "execution_count": 8,
   "metadata": {},
   "outputs": [
    {
     "name": "stdout",
     "output_type": "stream",
     "text": [
      "====Test CBOW===\n",
      "predicted: about\n",
      "label    : about\n",
      "predicted: to\n",
      "label    : to\n",
      "predicted: study\n",
      "label    : study\n",
      "predicted: the\n",
      "label    : the\n",
      "predicted: idea\n",
      "label    : idea\n",
      "predicted: of\n",
      "label    : of\n",
      "predicted: a\n",
      "label    : a\n",
      "predicted: computational\n",
      "label    : computational\n",
      "predicted: process.\n",
      "label    : process.\n",
      "predicted: Computational\n",
      "label    : Computational\n",
      "predicted: processes\n",
      "label    : processes\n",
      "predicted: are\n",
      "label    : are\n",
      "predicted: abstract\n",
      "label    : abstract\n",
      "predicted: beings\n",
      "label    : beings\n",
      "predicted: that\n",
      "label    : that\n",
      "predicted: inhabit\n",
      "label    : inhabit\n",
      "predicted: computers.\n",
      "label    : computers.\n",
      "predicted: As\n",
      "label    : As\n",
      "predicted: they\n",
      "label    : they\n",
      "predicted: evolve,\n",
      "label    : evolve,\n",
      "predicted: processes\n",
      "label    : processes\n",
      "predicted: manipulate\n",
      "label    : manipulate\n",
      "predicted: other\n",
      "label    : other\n",
      "predicted: abstract\n",
      "label    : abstract\n",
      "predicted: things\n",
      "label    : things\n",
      "predicted: called\n",
      "label    : called\n",
      "predicted: a\n",
      "label    : data.\n",
      "predicted: The\n",
      "label    : The\n",
      "predicted: evolution\n",
      "label    : evolution\n",
      "predicted: of\n",
      "label    : "
     ]
    },
    {
     "name": "stderr",
     "output_type": "stream",
     "text": [
      "C:\\Users\\woojung\\anaconda3\\lib\\site-packages\\ipykernel_launcher.py:25: UserWarning: Implicit dimension choice for log_softmax has been deprecated. Change the call to include dim=X as an argument.\n"
     ]
    },
    {
     "name": "stdout",
     "output_type": "stream",
     "text": [
      "of\n",
      "predicted: a\n",
      "label    : a\n",
      "predicted: process\n",
      "label    : process\n",
      "predicted: is\n",
      "label    : is\n",
      "predicted: directed\n",
      "label    : directed\n",
      "predicted: by\n",
      "label    : by\n",
      "predicted: a\n",
      "label    : a\n",
      "predicted: pattern\n",
      "label    : pattern\n",
      "predicted: of\n",
      "label    : of\n",
      "predicted: a\n",
      "label    : rules\n",
      "predicted: called\n",
      "label    : called\n",
      "predicted: a\n",
      "label    : a\n",
      "predicted: program.\n",
      "label    : program.\n",
      "predicted: People\n",
      "label    : People\n",
      "predicted: create\n",
      "label    : create\n",
      "predicted: programs\n",
      "label    : programs\n",
      "predicted: to\n",
      "label    : to\n",
      "predicted: direct\n",
      "label    : direct\n",
      "predicted: the\n",
      "label    : processes.\n",
      "predicted: a\n",
      "label    : In\n",
      "predicted: effect,\n",
      "label    : effect,\n",
      "predicted: we\n",
      "label    : we\n",
      "predicted: conjure\n",
      "label    : conjure\n",
      "predicted: the\n",
      "label    : the\n",
      "predicted: spirits\n",
      "label    : spirits\n",
      "predicted: of\n",
      "label    : of\n",
      "predicted: the\n",
      "label    : the\n",
      "predicted: computer\n",
      "label    : computer\n",
      "predicted: with\n",
      "label    : with\n",
      "Accuracy: 93.1% (54/58)\n",
      "------\n",
      "====Test SkipGram===\n",
      "Accuracy: 50.0% (232/464)\n"
     ]
    }
   ],
   "source": [
    "test_cbow(cbow_train, cbow_model)\n",
    "print('------')\n",
    "test_skipgram(skipgram_train, sg_model)"
   ]
  },
  {
   "cell_type": "code",
   "execution_count": 9,
   "metadata": {},
   "outputs": [
    {
     "name": "stderr",
     "output_type": "stream",
     "text": [
      "\n",
      "Bad key \"text.kerning_factor\" on line 4 in\n",
      "C:\\Users\\woojung\\anaconda3\\lib\\site-packages\\matplotlib\\mpl-data\\stylelib\\_classic_test_patch.mplstyle.\n",
      "You probably need to get an updated matplotlibrc file from\n",
      "http://github.com/matplotlib/matplotlib/blob/master/matplotlibrc.template\n",
      "or from the matplotlib source distribution\n"
     ]
    },
    {
     "data": {
      "text/plain": [
       "<Figure size 432x288 with 0 Axes>"
      ]
     },
     "metadata": {},
     "output_type": "display_data"
    },
    {
     "data": {
      "image/png": "[encoded data removed]",
      "text/plain": [
       "<Figure size 432x288 with 1 Axes>"
      ]
     },
     "metadata": {
      "needs_background": "light"
     },
     "output_type": "display_data"
    },
    {
     "data": {
      "text/plain": [
       "<Figure size 432x288 with 0 Axes>"
      ]
     },
     "metadata": {},
     "output_type": "display_data"
    },
    {
     "data": {
      "image/png": "[encoded data removed]",
      "text/plain": [
       "<Figure size 432x288 with 1 Axes>"
      ]
     },
     "metadata": {
      "needs_background": "light"
     },
     "output_type": "display_data"
    }
   ],
   "source": [
    "%matplotlib inline\n",
    "import matplotlib.pyplot as plt\n",
    "import numpy as np\n",
    "\n",
    "def showPlot(points, title):\n",
    "    plt.figure()\n",
    "    fig, ax = plt.subplots()\n",
    "    plt.plot(points)\n",
    "\n",
    "showPlot(cbow_losses, 'CBOW Losses')\n",
    "showPlot(sg_losses, 'SkipGram Losses')"
   ]
  },
  {
   "cell_type": "markdown",
   "metadata": {},
   "source": [
    "### torchtext을 사용해서 GloVe 사용"
   ]
  },
  {
   "cell_type": "code",
   "execution_count": 10,
   "metadata": {},
   "outputs": [
    {
     "name": "stdout",
     "output_type": "stream",
     "text": [
      "Loaded 400000 words\n"
     ]
    }
   ],
   "source": [
    "#거대한 corpus을 통해서 학습을 완료시킨 vector들\n",
    "import torch\n",
    "import torchtext.vocab as vocab #GloVe 외 많음\n",
    "\n",
    "glove = vocab.GloVe(name = \"6B\", dim = 100)\n",
    "print(\"Loaded {} words\".format(len(glove.itos))) #itos (index to string) "
   ]
  },
  {
   "cell_type": "code",
   "execution_count": 11,
   "metadata": {},
   "outputs": [],
   "source": [
    "def get_word(word):\n",
    "    return glove.vectors[glove.stoi[word]]\n",
    "#get_word(\"name\")"
   ]
  },
  {
   "cell_type": "code",
   "execution_count": 12,
   "metadata": {},
   "outputs": [],
   "source": [
    "def closest(vec, n = 10):\n",
    "    all_dists = [(w, torch.dist(vec, get_word(w))) for w in glove.itos]\n",
    "    return sorted(all_dists, key = lambda t: t[1])[:n]"
   ]
  },
  {
   "cell_type": "code",
   "execution_count": 13,
   "metadata": {},
   "outputs": [],
   "source": [
    "def print_tuples(tuples):\n",
    "    for tuple in tuples:\n",
    "        print(\"(%.4f) %s\" % (tuple[1], tuple[0]))"
   ]
  },
  {
   "cell_type": "code",
   "execution_count": 14,
   "metadata": {},
   "outputs": [
    {
     "name": "stdout",
     "output_type": "stream",
     "text": [
      "(0.0000) google\n",
      "(3.0772) yahoo\n",
      "(3.8836) microsoft\n",
      "(4.1048) web\n",
      "(4.1082) aol\n",
      "(4.1165) facebook\n",
      "(4.3917) ebay\n",
      "(4.4122) msn\n",
      "(4.4540) internet\n",
      "(4.4651) netscape\n"
     ]
    }
   ],
   "source": [
    "print_tuples(closest(get_word(\"google\")))"
   ]
  },
  {
   "cell_type": "code",
   "execution_count": 15,
   "metadata": {},
   "outputs": [],
   "source": [
    "def analogy(w1, w2, w3, n=5, filter_given=True):\n",
    "    print('\\n[%s : %s :: %s : ?]' % (w1, w2, w3))\n",
    "    closest_words = closest(get_word(w2) - get_word(w1) + get_word(w3))    \n",
    "    if filter_given:\n",
    "        closest_words = [t for t in closest_words if t[0] not in [w1, w2, w3]]\n",
    "        \n",
    "    print_tuples(closest_words[:n])"
   ]
  },
  {
   "cell_type": "code",
   "execution_count": 16,
   "metadata": {},
   "outputs": [
    {
     "name": "stdout",
     "output_type": "stream",
     "text": [
      "\n",
      "[king : man :: queen : ?]\n",
      "(4.0811) woman\n",
      "(4.6916) girl\n",
      "(5.2703) she\n",
      "(5.2788) teenager\n",
      "(5.3084) boy\n"
     ]
    }
   ],
   "source": [
    "analogy(\"king\", \"man\", \"queen\")\n",
    "#GloVe를 통해 가장 가까운 거리의 제일 나올 수 있는 확률이 높은 다섯개의 단어 나옴"
   ]
  },
  {
   "cell_type": "code",
   "execution_count": 17,
   "metadata": {},
   "outputs": [
    {
     "name": "stdout",
     "output_type": "stream",
     "text": [
      "\n",
      "[man : actor :: woman : ?]\n",
      "(2.8133) actress\n",
      "(5.0039) comedian\n",
      "(5.1399) actresses\n",
      "(5.2773) starred\n",
      "(5.3085) screenwriter\n",
      "\n",
      "[cat : kitten :: dog : ?]\n",
      "(3.8146) puppy\n",
      "(4.2944) rottweiler\n",
      "(4.5888) puppies\n",
      "(4.6086) pooch\n",
      "(4.6520) pug\n",
      "\n",
      "[dog : puppy :: cat : ?]\n",
      "(3.8146) kitten\n",
      "(4.0255) puppies\n",
      "(4.1575) kittens\n",
      "(4.1882) pterodactyl\n",
      "(4.1945) scaredy\n",
      "\n",
      "[russia : moscow :: france : ?]\n",
      "(3.2697) paris\n",
      "(4.6857) french\n",
      "(4.7085) lyon\n",
      "(4.9087) strasbourg\n",
      "(5.0362) marseille\n",
      "\n",
      "[obama : president :: trump : ?]\n",
      "(6.4302) executive\n",
      "(6.5149) founder\n",
      "(6.6997) ceo\n",
      "(6.7524) hilton\n",
      "(6.7729) walt\n",
      "\n",
      "[rich : mansion :: poor : ?]\n",
      "(5.8262) residence\n",
      "(5.9444) riverside\n",
      "(6.0283) hillside\n",
      "(6.0328) abandoned\n",
      "(6.0681) bungalow\n",
      "\n",
      "[elvis : rock :: eminem : ?]\n",
      "(5.6597) rap\n",
      "(6.2057) rappers\n",
      "(6.2161) rapper\n",
      "(6.2444) punk\n",
      "(6.2690) hop\n",
      "\n",
      "[paper : newspaper :: screen : ?]\n",
      "(4.7810) tv\n",
      "(5.1049) television\n",
      "(5.3818) cinema\n",
      "(5.5524) feature\n",
      "(5.5646) shows\n",
      "\n",
      "[monet : paint :: michelangelo : ?]\n",
      "(6.0782) plaster\n",
      "(6.3768) mold\n",
      "(6.3922) tile\n",
      "(6.5819) marble\n",
      "(6.6524) image\n",
      "\n",
      "[beer : barley :: wine : ?]\n",
      "(5.6021) grape\n",
      "(5.6760) beans\n",
      "(5.8174) grapes\n",
      "(5.9035) lentils\n",
      "(5.9454) figs\n",
      "\n",
      "[earth : moon :: sun : ?]\n",
      "(6.2294) lee\n",
      "(6.4125) kang\n",
      "(6.4644) tan\n",
      "(6.4757) yang\n",
      "(6.4853) lin\n",
      "\n",
      "[house : roof :: castle : ?]\n",
      "(6.2919) stonework\n",
      "(6.3779) masonry\n",
      "(6.4773) canopy\n",
      "(6.4954) fortress\n",
      "(6.5259) battlements\n",
      "\n",
      "[building : architect :: software : ?]\n",
      "(5.8369) programmer\n",
      "(6.8881) entrepreneur\n",
      "(6.9240) inventor\n",
      "(6.9730) developer\n",
      "(6.9949) innovator\n",
      "\n",
      "[boston : bruins :: phoenix : ?]\n",
      "(3.8546) suns\n",
      "(4.1968) mavericks\n",
      "(4.6126) coyotes\n",
      "(4.6894) mavs\n",
      "(4.6971) knicks\n",
      "\n",
      "[good : heaven :: bad : ?]\n",
      "(4.3959) hell\n",
      "(5.2864) ghosts\n",
      "(5.2898) hades\n",
      "(5.3414) madness\n",
      "(5.3520) purgatory\n",
      "\n",
      "[jordan : basketball :: woods : ?]\n",
      "(5.8607) golf\n",
      "(6.4110) golfers\n",
      "(6.4418) tournament\n",
      "(6.4592) tennis\n",
      "(6.6560) collegiate\n"
     ]
    }
   ],
   "source": [
    "analogy('man', 'actor', 'woman')\n",
    "analogy('cat', 'kitten', 'dog')\n",
    "analogy('dog', 'puppy', 'cat')\n",
    "analogy('russia', 'moscow', 'france')\n",
    "analogy('obama', 'president', 'trump')\n",
    "analogy('rich', 'mansion', 'poor')\n",
    "analogy('elvis', 'rock', 'eminem')\n",
    "analogy('paper', 'newspaper', 'screen')\n",
    "analogy('monet', 'paint', 'michelangelo')\n",
    "analogy('beer', 'barley', 'wine')\n",
    "analogy('earth', 'moon', 'sun')\n",
    "analogy('house', 'roof', 'castle')\n",
    "analogy('building', 'architect', 'software')\n",
    "analogy('boston', 'bruins', 'phoenix')\n",
    "analogy('good', 'heaven', 'bad')\n",
    "analogy('jordan', 'basketball', 'woods')"
   ]
  },
  {
   "cell_type": "code",
   "execution_count": null,
   "metadata": {},
   "outputs": [],
   "source": []
  }
 ],
 "metadata": {
  "kernelspec": {
   "display_name": "Python 3",
   "language": "python",
   "name": "python3"
  },
  "language_info": {
   "codemirror_mode": {
    "name": "ipython",
    "version": 3
   },
   "file_extension": ".py",
   "mimetype": "text/x-python",
   "name": "python",
   "nbconvert_exporter": "python",
   "pygments_lexer": "ipython3",
   "version": "3.7.6"
  }
 },
 "nbformat": 4,
 "nbformat_minor": 4
}
